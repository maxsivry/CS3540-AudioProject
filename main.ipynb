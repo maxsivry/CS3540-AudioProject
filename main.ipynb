{
 "cells": [
  {
   "cell_type": "markdown",
   "metadata": {},
   "source": [
    "# Machine Learning Project: Key Detection\n",
    "Authors: Zach Hayes, Matt Gaetano, Max Ivry\n",
    "\n",
    "Course: CS3540\n"
   ]
  },
  {
   "cell_type": "code",
   "execution_count": 1,
   "metadata": {},
   "outputs": [],
   "source": [
    "import pandas as pd\n",
    "import numpy as np\n",
    "from scipy.io import wavfile\n",
    "from scipy.fft import rfft, rfftfreq\n"
   ]
  },
  {
   "cell_type": "markdown",
   "metadata": {},
   "source": [
    "### Data Cleaning and Feature Engineering Pipeline\n",
    "Data cleaning occured earlier in process. See clean.ipynb"
   ]
  },
  {
   "cell_type": "code",
   "execution_count": 37,
   "metadata": {},
   "outputs": [],
   "source": [
    "def features_from_audio(df) -> pd.DataFrame:\n",
    "    \"\"\"\n",
    "    'Join' the existing dataframe with the audio files via\n",
    "    mapping to frequency features.\n",
    "    \"\"\"\n",
    "    # Determine the size for all instances (largest number of samples)\n",
    "    longest = 0\n",
    "    rate = 0\n",
    "    locations = df[\"location\"].to_numpy()\n",
    "    for loc in locations:\n",
    "        path = \"dataset/\" + loc\n",
    "        rate, data = wavfile.read(path)\n",
    "        length = len(data)\n",
    "        if length > longest:\n",
    "            longest = length\n",
    "\n",
    "    freq_bins = rfftfreq(longest, 1 / rate)\n",
    "\n",
    "    # Calculate the features to populate a data array\n",
    "    bundles = []\n",
    "    bundle = None\n",
    "    for loc in locations:\n",
    "        path = \"dataset/\" + loc\n",
    "        samplerate, data = wavfile.read(path)\n",
    "        # Trailing 0s to achieve the same length as the longest instance\n",
    "        data_length = len(data)\n",
    "        new_data = np.concatenate((data, np.zeros(longest - data_length)))\n",
    "        # Compute the fft and add the instances to bundles to compute\n",
    "        fft = np.abs(rfft(new_data))\n",
    "        key = df[df[\"location\"] == loc][\"key\"]\n",
    "        instance = np.concatenate([fft, key])\n",
    "        if bundle is None:\n",
    "            bundle = [instance]\n",
    "        elif len(bundle) < 150:\n",
    "            bundle = np.append(bundle, [instance], axis=0)\n",
    "        else:\n",
    "            bundles.append(bundle)\n",
    "            bundle = [instance]\n",
    "    bundles.append(bundle)  # Last remaining bundle\n",
    "    instances = np.concatenate(bundles, axis=0)\n",
    "\n",
    "    # Return the completed dataframe\n",
    "    cols = np.append(freq_bins, \"target\")\n",
    "    return pd.DataFrame(data=instances, columns=cols)"
   ]
  },
  {
   "cell_type": "code",
   "execution_count": 38,
   "metadata": {},
   "outputs": [
    {
     "ename": "",
     "evalue": "",
     "output_type": "error",
     "traceback": [
      "\u001b[1;31mThe Kernel crashed while executing code in the current cell or a previous cell. \n",
      "\u001b[1;31mPlease review the code in the cell(s) to identify a possible cause of the failure. \n",
      "\u001b[1;31mClick <a href='https://aka.ms/vscodeJupyterKernelCrash'>here</a> for more info. \n",
      "\u001b[1;31mView Jupyter <a href='command:jupyter.viewOutput'>log</a> for further details."
     ]
    }
   ],
   "source": [
    "def df_pipeline() -> pd.DataFrame:\n",
    "    \"\"\"\n",
    "    From the original audio file and json pair dataset, \n",
    "    create the dataset from which to work \n",
    "    \"\"\"\n",
    "    df = pd.read_json(\"dataset/metadata.json\", lines=True)\n",
    "    df = features_from_audio(df)\n",
    "    return df\n",
    "\n",
    "df = df_pipeline()\n",
    "print(df.head())\n",
    "print(df.shape)\n",
    "df.to_json(\"data.json\", orient=\"records\", lines=True)"
   ]
  },
  {
   "cell_type": "markdown",
   "metadata": {},
   "source": [
    "### Support Vector Machine Approach"
   ]
  }
 ],
 "metadata": {
  "kernelspec": {
   "display_name": "base",
   "language": "python",
   "name": "python3"
  },
  "language_info": {
   "codemirror_mode": {
    "name": "ipython",
    "version": 3
   },
   "file_extension": ".py",
   "mimetype": "text/x-python",
   "name": "python",
   "nbconvert_exporter": "python",
   "pygments_lexer": "ipython3",
   "version": "3.11.5"
  }
 },
 "nbformat": 4,
 "nbformat_minor": 2
}
