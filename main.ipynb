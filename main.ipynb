{
 "cells": [
  {
   "cell_type": "markdown",
   "metadata": {},
   "source": [
    "# Machine Learning Project: Key Detection\n",
    "Authors: Zach Hayes, Matt Gaetano, Max Ivry\n",
    "\n",
    "Course: CS3540\n"
   ]
  },
  {
   "cell_type": "code",
   "execution_count": 2,
   "metadata": {},
   "outputs": [],
   "source": [
    "import pandas as pd\n",
    "import numpy as np"
   ]
  },
  {
   "cell_type": "markdown",
   "metadata": {},
   "source": [
    "### Gather Training and Testing Data\n",
    "Data cleaning and feature extraction occured earlier in process. See clean.ipynb"
   ]
  },
  {
   "cell_type": "code",
   "execution_count": null,
   "metadata": {},
   "outputs": [],
   "source": [
    "def retrieve_data():\n",
    "    train_df = pd.read_json(\"dataset/train.json\", lines=True)\n",
    "    test_df = pd.read_json(\"dataset/test.json\", lines=True)\n",
    "\n",
    "    X_train = train_df.loc[:, :-1]\n",
    "    y_train = train_df.loc[:, -1:]\n",
    "\n",
    "    X_test = test_df.loc[:, :-1]\n",
    "    y_test = test_df.loc[:, -1:]\n",
    "\n",
    "    return X_train, y_train, X_test, y_test\n",
    "\n",
    "X_train, y_train, X_test, y_test = retrieve_data()"
   ]
  },
  {
   "cell_type": "code",
   "execution_count": 11,
   "metadata": {},
   "outputs": [
    {
     "name": "stderr",
     "output_type": "stream",
     "text": [
      "C:\\Users\\Zachary\\AppData\\Local\\Temp\\ipykernel_16048\\271156794.py:1: FutureWarning: The behavior of 'to_datetime' with 'unit' when parsing strings is deprecated. In a future version, strings will be parsed as datetime strings, matching the behavior without a 'unit'. To retain the old behavior, explicitly cast ints or floats to numeric type before calling to_datetime.\n",
      "  df = pd.read_json(\"data.json\", lines=True)\n",
      "C:\\Users\\Zachary\\AppData\\Local\\Temp\\ipykernel_16048\\271156794.py:1: FutureWarning: The behavior of 'to_datetime' with 'unit' when parsing strings is deprecated. In a future version, strings will be parsed as datetime strings, matching the behavior without a 'unit'. To retain the old behavior, explicitly cast ints or floats to numeric type before calling to_datetime.\n",
      "  df = pd.read_json(\"data.json\", lines=True)\n",
      "C:\\Users\\Zachary\\AppData\\Local\\Temp\\ipykernel_16048\\271156794.py:1: FutureWarning: The behavior of 'to_datetime' with 'unit' when parsing strings is deprecated. In a future version, strings will be parsed as datetime strings, matching the behavior without a 'unit'. To retain the old behavior, explicitly cast ints or floats to numeric type before calling to_datetime.\n",
      "  df = pd.read_json(\"data.json\", lines=True)\n"
     ]
    },
    {
     "name": "stdout",
     "output_type": "stream",
     "text": [
      "target\n",
      "[G, major]     763\n",
      "[C, major]     676\n",
      "[A, major]     670\n",
      "[D, major]     664\n",
      "[E, major]     602\n",
      "[F, major]     548\n",
      "[A, minor]     488\n",
      "[B, major]     425\n",
      "[C, minor]     366\n",
      "[G, minor]     344\n",
      "[D, minor]     337\n",
      "[C#, major]    305\n",
      "[F#, major]    304\n",
      "[Bb, major]    276\n",
      "[E, minor]     272\n",
      "[D#, major]    257\n",
      "[A#, major]    256\n",
      "[B, minor]     249\n",
      "[F, minor]     248\n",
      "[G#, major]    226\n",
      "[Ab, major]    191\n",
      "[F#, minor]    191\n",
      "[C#, minor]    188\n",
      "[Eb, major]    178\n",
      "[A#, minor]    155\n",
      "[D#, minor]    135\n",
      "[G#, minor]    134\n",
      "[Ab, minor]     89\n",
      "[Eb, minor]     76\n",
      "[Bb, minor]     72\n",
      "[Db, major]     66\n",
      "[Gb, major]     50\n",
      "[Gb, minor]     25\n",
      "[Db, minor]     21\n",
      "Name: count, dtype: int64\n",
      "note\n",
      "A     1158\n",
      "G     1107\n",
      "C     1042\n",
      "D     1001\n",
      "E      874\n",
      "F      796\n",
      "B      674\n",
      "F#     495\n",
      "C#     493\n",
      "A#     411\n",
      "D#     392\n",
      "G#     360\n",
      "Bb     348\n",
      "Ab     280\n",
      "Eb     254\n",
      "Db      87\n",
      "Gb      75\n",
      "Name: count, dtype: int64\n",
      "modality\n",
      "major    6457\n",
      "minor    3390\n",
      "Name: count, dtype: int64\n"
     ]
    }
   ],
   "source": [
    "train = pd.read_json(\"data.json\", lines=True)\n",
    "\n",
    "df[['note', 'modality']] = pd.DataFrame(df.target.tolist(), index=df.index)\n",
    "print(df[\"target\"].value_counts())\n",
    "print(df[\"note\"].value_counts())\n",
    "print(df[\"modality\"].value_counts())"
   ]
  },
  {
   "cell_type": "markdown",
   "metadata": {},
   "source": [
    "### Support Vector Machine Approach"
   ]
  }
 ],
 "metadata": {
  "kernelspec": {
   "display_name": "base",
   "language": "python",
   "name": "python3"
  },
  "language_info": {
   "codemirror_mode": {
    "name": "ipython",
    "version": 3
   },
   "file_extension": ".py",
   "mimetype": "text/x-python",
   "name": "python",
   "nbconvert_exporter": "python",
   "pygments_lexer": "ipython3",
   "version": "3.11.5"
  }
 },
 "nbformat": 4,
 "nbformat_minor": 2
}
