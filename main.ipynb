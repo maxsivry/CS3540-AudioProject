{
 "cells": [
  {
   "cell_type": "markdown",
   "metadata": {},
   "source": [
    "# Machine Learning Project: Key Detection\n",
    "Authors: Zach Hayes, Matt Gaetano, Max Ivry\n",
    "\n",
    "Course: CS3540\n"
   ]
  },
  {
   "cell_type": "code",
   "execution_count": 2,
   "metadata": {},
   "outputs": [],
   "source": [
    "import pandas as pd\n",
    "import numpy as np\n"
   ]
  },
  {
   "cell_type": "markdown",
   "metadata": {},
   "source": [
    "### Data Cleaning and Feature Engineering Pipeline\n",
    "Data cleaning occured earlier in process. See clean.ipynb"
   ]
  },
  {
   "cell_type": "code",
   "execution_count": null,
   "metadata": {},
   "outputs": [],
   "source": [
    "def features_from_audio(df):\n",
    "    \"\"\"\n",
    "    'Join' the existing dataframe with the audio files via\n",
    "    mapping to spectrograph features.\n",
    "    \"\"\""
   ]
  },
  {
   "cell_type": "code",
   "execution_count": 6,
   "metadata": {},
   "outputs": [
    {
     "name": "stdout",
     "output_type": "stream",
     "text": [
      "      dataset                     location  \\\n",
      "0  MusicBench  data_aug2/-0SdAVK79lg_1.wav   \n",
      "1  MusicBench  data_aug2/-0SdAVK79lg_2.wav   \n",
      "2  MusicBench  data_aug2/-0SdAVK79lg_3.wav   \n",
      "3  MusicBench  data_aug2/-0SdAVK79lg_4.wav   \n",
      "4  MusicBench  data_aug2/-0SdAVK79lg_5.wav   \n",
      "\n",
      "                                        main_caption  \\\n",
      "0  This mellow instrumental track showcases a dom...   \n",
      "1  This relaxing song is perfect for a coffee sho...   \n",
      "2  This laid-back instrumental track is perfect f...   \n",
      "3  This is a relaxing song that features an elect...   \n",
      "4  This relaxing song is perfect for a coffee sho...   \n",
      "\n",
      "                                         alt_caption prompt_aug  \\\n",
      "0  This song features an electric guitar as the m...              \n",
      "1  This song features an electric guitar as the m...              \n",
      "2  This song features an electric guitar as the m...              \n",
      "3  This song features an electric guitar as the m...              \n",
      "4  This song features an electric guitar as the m...              \n",
      "\n",
      "                                  prompt_ch                   prompt_bt  \\\n",
      "0  The chord progression in this song is E.       The beat counts to 4.   \n",
      "1  The chord progression in this song is E.              The beat is 4.   \n",
      "2  The chord progression in this song is E.       The beat counts to 4.   \n",
      "3  The chord progression in this song is E.              The beat is 4.   \n",
      "4                 The chord sequence is C#.  The time signature is 4/4.   \n",
      "\n",
      "                                  prompt_bpm  \\\n",
      "0                          The bpm is 112.0.   \n",
      "1  The song is played at the pace of Vivace.   \n",
      "2                          The bpm is 151.0.   \n",
      "3  The song is played at the pace of Vivace.   \n",
      "4  This song goes at 130.0 beats per minute.   \n",
      "\n",
      "                             prompt_key  \\\n",
      "0      The key of this song is E major.   \n",
      "1   This song is in the key of E major.   \n",
      "2      The key of this song is E major.   \n",
      "3   This song is in the key of E major.   \n",
      "4  This song is in the key of C# major.   \n",
      "\n",
      "                                               beats    bpm chords  \\\n",
      "0  [[0.37212133669135805, 0.9070457581851851, 1.4...  112.0    [E]   \n",
      "1  [[0.265814202214641, 0.6479221178981891, 1.046...  157.0    [E]   \n",
      "2  [[0.27544221386035, 0.6713903962846051, 1.0845...  151.0    [E]   \n",
      "3  [[0.28019381736014803, 0.6829724298153611, 1.1...  148.0    [E]   \n",
      "4  [[0.32, 0.78, 1.26, 1.74, 2.2, 2.66, 3.12, 3.5...  130.0   [C#]   \n",
      "\n",
      "             chords_time          key               keyprob  \n",
      "0     [0.54004003397904]   [E, major]  [0.8934084177017211]  \n",
      "1  [0.44859472123783306]   [E, major]  [0.8934084177017211]  \n",
      "2  [0.38613100982442405]   [E, major]  [0.8934084177017211]  \n",
      "3  [0.33809850513698203]   [E, major]  [0.8934084177017211]  \n",
      "4  [0.33809850513698203]  [C#, major]  [0.8934084177017211]  \n"
     ]
    }
   ],
   "source": [
    "def df_pipeline() -> pd.DataFrame:\n",
    "    \"\"\"\n",
    "    From the original audio file and json pair dataset, \n",
    "    create the dataset from which to work \n",
    "    \"\"\"\n",
    "    df = pd.read_json(\"dataset/metadata.json\", lines=True)\n",
    "    #features_from_audio(df)\n",
    "    return df\n",
    "\n",
    "df = df_pipeline()\n",
    "print(df.head())"
   ]
  },
  {
   "cell_type": "markdown",
   "metadata": {},
   "source": [
    "### Support Vector Machine Approach"
   ]
  }
 ],
 "metadata": {
  "kernelspec": {
   "display_name": "base",
   "language": "python",
   "name": "python3"
  },
  "language_info": {
   "codemirror_mode": {
    "name": "ipython",
    "version": 3
   },
   "file_extension": ".py",
   "mimetype": "text/x-python",
   "name": "python",
   "nbconvert_exporter": "python",
   "pygments_lexer": "ipython3",
   "version": "3.11.5"
  }
 },
 "nbformat": 4,
 "nbformat_minor": 2
}
