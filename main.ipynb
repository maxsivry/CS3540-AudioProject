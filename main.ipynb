{
 "cells": [
  {
   "cell_type": "markdown",
   "metadata": {},
   "source": [
    "# Machine Learning Project: Key Detection\n",
    "Authors: Zach Hayes, Matt Gaetano, Max Ivry\n",
    "\n",
    "Course: CS3540\n"
   ]
  },
  {
   "cell_type": "code",
   "execution_count": 11,
   "metadata": {},
   "outputs": [],
   "source": [
    "import pandas as pd\n",
    "import numpy as np"
   ]
  },
  {
   "cell_type": "markdown",
   "metadata": {},
   "source": [
    "### Gather Training and Testing Data\n",
    "Data cleaning and feature extraction occured earlier in process. See clean.ipynb"
   ]
  },
  {
   "cell_type": "code",
   "execution_count": 12,
   "metadata": {},
   "outputs": [
    {
     "name": "stderr",
     "output_type": "stream",
     "text": [
      "C:\\Users\\Zachary\\AppData\\Local\\Temp\\ipykernel_7872\\677521648.py:2: FutureWarning: The behavior of 'to_datetime' with 'unit' when parsing strings is deprecated. In a future version, strings will be parsed as datetime strings, matching the behavior without a 'unit'. To retain the old behavior, explicitly cast ints or floats to numeric type before calling to_datetime.\n",
      "  train_df = pd.read_json(\"train.json\", lines=True)\n",
      "C:\\Users\\Zachary\\AppData\\Local\\Temp\\ipykernel_7872\\677521648.py:2: FutureWarning: The behavior of 'to_datetime' with 'unit' when parsing strings is deprecated. In a future version, strings will be parsed as datetime strings, matching the behavior without a 'unit'. To retain the old behavior, explicitly cast ints or floats to numeric type before calling to_datetime.\n",
      "  train_df = pd.read_json(\"train.json\", lines=True)\n",
      "C:\\Users\\Zachary\\AppData\\Local\\Temp\\ipykernel_7872\\677521648.py:2: FutureWarning: The behavior of 'to_datetime' with 'unit' when parsing strings is deprecated. In a future version, strings will be parsed as datetime strings, matching the behavior without a 'unit'. To retain the old behavior, explicitly cast ints or floats to numeric type before calling to_datetime.\n",
      "  train_df = pd.read_json(\"train.json\", lines=True)\n",
      "C:\\Users\\Zachary\\AppData\\Local\\Temp\\ipykernel_7872\\677521648.py:3: FutureWarning: The behavior of 'to_datetime' with 'unit' when parsing strings is deprecated. In a future version, strings will be parsed as datetime strings, matching the behavior without a 'unit'. To retain the old behavior, explicitly cast ints or floats to numeric type before calling to_datetime.\n",
      "  test_df = pd.read_json(\"test.json\", lines=True)\n",
      "C:\\Users\\Zachary\\AppData\\Local\\Temp\\ipykernel_7872\\677521648.py:3: FutureWarning: The behavior of 'to_datetime' with 'unit' when parsing strings is deprecated. In a future version, strings will be parsed as datetime strings, matching the behavior without a 'unit'. To retain the old behavior, explicitly cast ints or floats to numeric type before calling to_datetime.\n",
      "  test_df = pd.read_json(\"test.json\", lines=True)\n",
      "C:\\Users\\Zachary\\AppData\\Local\\Temp\\ipykernel_7872\\677521648.py:3: FutureWarning: The behavior of 'to_datetime' with 'unit' when parsing strings is deprecated. In a future version, strings will be parsed as datetime strings, matching the behavior without a 'unit'. To retain the old behavior, explicitly cast ints or floats to numeric type before calling to_datetime.\n",
      "  test_df = pd.read_json(\"test.json\", lines=True)\n"
     ]
    }
   ],
   "source": [
    "def retrieve_data():\n",
    "    train_df = pd.read_json(\"train.json\", lines=True)\n",
    "    test_df = pd.read_json(\"test.json\", lines=True)\n",
    "\n",
    "    X_train = train_df.iloc[:, :-1]\n",
    "    y_train = train_df[\"target\"]\n",
    "\n",
    "    X_test = test_df.iloc[:, :-1]\n",
    "    y_test = test_df[\"target\"]\n",
    "\n",
    "    return X_train, y_train, X_test, y_test\n",
    "\n",
    "X_train, y_train, X_test, y_test = retrieve_data()"
   ]
  },
  {
   "cell_type": "markdown",
   "metadata": {},
   "source": [
    "### Machine Learning Algorithms"
   ]
  }
 ],
 "metadata": {
  "kernelspec": {
   "display_name": "base",
   "language": "python",
   "name": "python3"
  },
  "language_info": {
   "codemirror_mode": {
    "name": "ipython",
    "version": 3
   },
   "file_extension": ".py",
   "mimetype": "text/x-python",
   "name": "python",
   "nbconvert_exporter": "python",
   "pygments_lexer": "ipython3",
   "version": "3.11.5"
  }
 },
 "nbformat": 4,
 "nbformat_minor": 2
}
